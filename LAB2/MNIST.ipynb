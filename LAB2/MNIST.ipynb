{
 "cells": [
  {
   "cell_type": "markdown",
   "metadata": {},
   "source": [
    "## Lab 2\n",
    "To create a Neural Network for MNIST digit dataset and classify using ANN"
   ]
  },
  {
   "cell_type": "code",
   "execution_count": 11,
   "metadata": {},
   "outputs": [],
   "source": [
    "import tensorflow as tf\n",
    "import tensorflow_datasets as tfds\n",
    "\n",
    "(ds_train,ds_test),ds_info = tfds.load(\n",
    "    'mnist',\n",
    "    split = ['train','test'],\n",
    "    shuffle_files= True,\n",
    "    as_supervised=True,\n",
    "    with_info=True,\n",
    ")"
   ]
  },
  {
   "cell_type": "code",
   "execution_count": 12,
   "metadata": {},
   "outputs": [],
   "source": [
    "def normalize_img(image, label):\n",
    "    return tf.cast(image, tf.float32) / 255.0, label\n",
    "\n",
    "# Prepare the training dataset\n",
    "ds_train = ds_train.map(\n",
    "    normalize_img, num_parallel_calls=tf.data.AUTOTUNE)\n",
    "ds_train = ds_train.cache()\n",
    "ds_train = ds_train.shuffle(ds_info.splits['train'].num_examples)\n",
    "ds_train = ds_train.batch(128)\n",
    "ds_train = ds_train.prefetch(tf.data.AUTOTUNE)\n",
    "\n",
    "# Prepare the testing dataset\n",
    "ds_test = ds_test.map(\n",
    "    normalize_img, num_parallel_calls=tf.data.AUTOTUNE)\n",
    "ds_test = ds_test.batch(128)\n",
    "ds_test = ds_test.cache()\n",
    "ds_test = ds_test.prefetch(tf.data.AUTOTUNE)"
   ]
  },
  {
   "cell_type": "code",
   "execution_count": 13,
   "metadata": {},
   "outputs": [
    {
     "data": {
      "text/plain": [
       "<_PrefetchDataset element_spec=(TensorSpec(shape=(None, 28, 28, 1), dtype=tf.float32, name=None), TensorSpec(shape=(None,), dtype=tf.int64, name=None))>"
      ]
     },
     "execution_count": 13,
     "metadata": {},
     "output_type": "execute_result"
    }
   ],
   "source": [
    "ds_train"
   ]
  },
  {
   "cell_type": "code",
   "execution_count": 31,
   "metadata": {},
   "outputs": [
    {
     "data": {
      "image/png": "[encoded data removed]",
      "text/plain": [
       "<Figure size 640x480 with 1 Axes>"
      ]
     },
     "metadata": {},
     "output_type": "display_data"
    },
    {
     "name": "stderr",
     "output_type": "stream",
     "text": [
      "2025-01-31 13:38:44.813086: I tensorflow/core/framework/local_rendezvous.cc:404] Local rendezvous is aborting with status: OUT_OF_RANGE: End of sequence\n"
     ]
    }
   ],
   "source": [
    "import matplotlib.pyplot as plt\n",
    "\n",
    "# Get a single batch of images and labels\n",
    "for images, labels in ds_train.take(1):  # Take one batch\n",
    "    img = images[0].numpy()  # Take the first image\n",
    "    label = labels[0].numpy()  # Take the first label\n",
    "\n",
    "    # Display the image and label\n",
    "    plt.imshow(img, cmap='gray')\n",
    "    plt.title(f'Label: {label}')\n",
    "    plt.axis('off')\n",
    "    plt.show()\n"
   ]
  },
  {
   "cell_type": "markdown",
   "metadata": {},
   "source": [
    "`sparse_categorical_crossentropy:` Works with integer labels (no need for manual one-hot encoding).<br>\n",
    "`categorical_crossentropy:` Requires one-hot encoded labels."
   ]
  },
  {
   "cell_type": "code",
   "execution_count": 27,
   "metadata": {},
   "outputs": [],
   "source": [
    "import tensorflow as tf\n",
    "from tensorflow import keras\n",
    "from tensorflow.keras.models import Model\n",
    "from tensorflow.keras.layers import Input,Flatten,Dropout,Lambda\n",
    "from tensorflow.keras.optimizers import RMSprop\n",
    "from tensorflow.keras import backend as k \n",
    "\n",
    "import matplotlib.pyplot as plt\n",
    "from PIL import Image,ImageFont,ImageDraw\n",
    "\n",
    "# Custom model creation\n",
    "\n",
    "def create_model():\n",
    "    input = keras.layers.Input(shape=(28,28),name='base_input')\n",
    "    x = keras.layers.Flatten()(input)\n",
    "    x = keras.layers.Dense(128,activation='relu',name = 'First_desnse_layer')(x)\n",
    "    x = keras.layers.Dropout(0.1,name='First_dropout')(x)\n",
    "    x = keras.layers.Dense(10,activation='softmax',name='Classification_layer')(x)\n",
    "    \n",
    "    return Model(inputs=input,outputs=x)\n",
    "\n",
    "Network = create_model()    "
   ]
  },
  {
   "cell_type": "code",
   "execution_count": 28,
   "metadata": {},
   "outputs": [
    {
     "data": {
      "image/svg+xml": [
       "<svg xmlns=\"http://www.w3.org/2000/svg\" xmlns:xlink=\"http://www.w3.org/1999/xlink\" width=\"322pt\" height=\"397pt\" viewBox=\"0.00 0.00 464.00 572.00\">\n",
       "<g id=\"graph0\" class=\"graph\" transform=\"scale(0.69 0.69) rotate(0) translate(4 568)\">\n",
       "<title>G</title>\n",
       "<polygon fill=\"white\" stroke=\"transparent\" points=\"-4,4 -4,-568 460,-568 460,4 -4,4\"/>\n",
       "<!-- 139619328730432 -->\n",
       "<g id=\"node1\" class=\"node\">\n",
       "<title>139619328730432</title>\n",
       "<polygon fill=\"none\" stroke=\"black\" points=\"104.5,-480.5 104.5,-563.5 351.5,-563.5 351.5,-480.5 104.5,-480.5\"/>\n",
       "<polygon fill=\"black\" stroke=\"transparent\" points=\"104.5,-480.5 104.5,-563.5 351.5,-563.5 351.5,-480.5 104.5,-480.5\"/>\n",
       "<polygon fill=\"black\" stroke=\"transparent\" points=\"107,-521 107,-561 350,-561 350,-521 107,-521\"/>\n",
       "<polygon fill=\"none\" stroke=\"black\" points=\"107,-521 107,-561 350,-561 350,-521 107,-521\"/>\n",
       "<text text-anchor=\"start\" x=\"127.5\" y=\"-538.2\" font-family=\"Helvetica,sans-Serif\" font-weight=\"bold\" font-size=\"16.00\" fill=\"white\">base_input</text>\n",
       "<text text-anchor=\"start\" x=\"224.5\" y=\"-538.2\" font-family=\"Helvetica,sans-Serif\" font-size=\"16.00\" fill=\"white\"> (InputLayer)</text>\n",
       "<polygon fill=\"white\" stroke=\"transparent\" points=\"107,-482 107,-519 348,-519 348,-482 107,-482\"/>\n",
       "<polygon fill=\"none\" stroke=\"black\" points=\"107,-482 107,-519 348,-519 348,-482 107,-482\"/>\n",
       "<text text-anchor=\"start\" x=\"118\" y=\"-497.8\" font-family=\"Helvetica,sans-Serif\" font-size=\"14.00\">Output shape: </text>\n",
       "<text text-anchor=\"start\" x=\"223\" y=\"-497.8\" font-family=\"Helvetica,sans-Serif\" font-weight=\"bold\" font-size=\"14.00\">(None, 28, 28)</text>\n",
       "</g>\n",
       "<!-- 139619328731488 -->\n",
       "<g id=\"node2\" class=\"node\">\n",
       "<title>139619328731488</title>\n",
       "<polygon fill=\"none\" stroke=\"black\" points=\"0,-360.5 0,-443.5 456,-443.5 456,-360.5 0,-360.5\"/>\n",
       "<polygon fill=\"black\" stroke=\"transparent\" points=\"0,-360.5 0,-443.5 456,-443.5 456,-360.5 0,-360.5\"/>\n",
       "<polygon fill=\"black\" stroke=\"transparent\" points=\"2,-401 2,-441 454,-441 454,-401 2,-401\"/>\n",
       "<polygon fill=\"none\" stroke=\"black\" points=\"2,-401 2,-441 454,-441 454,-401 2,-401\"/>\n",
       "<text text-anchor=\"start\" x=\"152\" y=\"-418.2\" font-family=\"Helvetica,sans-Serif\" font-weight=\"bold\" font-size=\"16.00\" fill=\"white\">flatten_2</text>\n",
       "<text text-anchor=\"start\" x=\"231\" y=\"-418.2\" font-family=\"Helvetica,sans-Serif\" font-size=\"16.00\" fill=\"white\"> (Flatten)</text>\n",
       "<polygon fill=\"white\" stroke=\"transparent\" points=\"2,-362 2,-399 231,-399 231,-362 2,-362\"/>\n",
       "<polygon fill=\"none\" stroke=\"black\" points=\"2,-362 2,-399 231,-399 231,-362 2,-362\"/>\n",
       "<text text-anchor=\"start\" x=\"13\" y=\"-377.8\" font-family=\"Helvetica,sans-Serif\" font-size=\"14.00\">Input shape: </text>\n",
       "<text text-anchor=\"start\" x=\"106\" y=\"-377.8\" font-family=\"Helvetica,sans-Serif\" font-weight=\"bold\" font-size=\"14.00\">(None, 28, 28)</text>\n",
       "<polygon fill=\"white\" stroke=\"transparent\" points=\"233,-362 233,-399 454,-399 454,-362 233,-362\"/>\n",
       "<polygon fill=\"none\" stroke=\"black\" points=\"233,-362 233,-399 454,-399 454,-362 233,-362\"/>\n",
       "<text text-anchor=\"start\" x=\"244\" y=\"-377.8\" font-family=\"Helvetica,sans-Serif\" font-size=\"14.00\">Output shape: </text>\n",
       "<text text-anchor=\"start\" x=\"349\" y=\"-377.8\" font-family=\"Helvetica,sans-Serif\" font-weight=\"bold\" font-size=\"14.00\">(None, 784)</text>\n",
       "</g>\n",
       "<!-- 139619328730432&#45;&gt;139619328731488 -->\n",
       "<g id=\"edge1\" class=\"edge\">\n",
       "<title>139619328730432-&gt;139619328731488</title>\n",
       "<path fill=\"none\" stroke=\"black\" stroke-width=\"2\" d=\"M228,-480.37C228,-480.37 228,-453.56 228,-453.56\"/>\n",
       "<polygon fill=\"black\" stroke=\"black\" stroke-width=\"2\" points=\"231.5,-453.56 228,-443.56 224.5,-453.56 231.5,-453.56\"/>\n",
       "</g>\n",
       "<!-- 139619328732112 -->\n",
       "<g id=\"node3\" class=\"node\">\n",
       "<title>139619328732112</title>\n",
       "<polygon fill=\"none\" stroke=\"black\" points=\"10,-240.5 10,-323.5 446,-323.5 446,-240.5 10,-240.5\"/>\n",
       "<polygon fill=\"black\" stroke=\"transparent\" points=\"10,-240.5 10,-323.5 446,-323.5 446,-240.5 10,-240.5\"/>\n",
       "<polygon fill=\"black\" stroke=\"transparent\" points=\"12,-281 12,-321 444,-321 444,-281 12,-281\"/>\n",
       "<polygon fill=\"none\" stroke=\"black\" points=\"12,-281 12,-321 444,-321 444,-281 12,-281\"/>\n",
       "<text text-anchor=\"start\" x=\"110.5\" y=\"-298.2\" font-family=\"Helvetica,sans-Serif\" font-weight=\"bold\" font-size=\"16.00\" fill=\"white\">First_desnse_layer</text>\n",
       "<text text-anchor=\"start\" x=\"277.5\" y=\"-298.2\" font-family=\"Helvetica,sans-Serif\" font-size=\"16.00\" fill=\"white\"> (Dense)</text>\n",
       "<polygon fill=\"white\" stroke=\"transparent\" points=\"12,-242 12,-279 221,-279 221,-242 12,-242\"/>\n",
       "<polygon fill=\"none\" stroke=\"black\" points=\"12,-242 12,-279 221,-279 221,-242 12,-242\"/>\n",
       "<text text-anchor=\"start\" x=\"23\" y=\"-257.8\" font-family=\"Helvetica,sans-Serif\" font-size=\"14.00\">Input shape: </text>\n",
       "<text text-anchor=\"start\" x=\"116\" y=\"-257.8\" font-family=\"Helvetica,sans-Serif\" font-weight=\"bold\" font-size=\"14.00\">(None, 784)</text>\n",
       "<polygon fill=\"white\" stroke=\"transparent\" points=\"223,-242 223,-279 444,-279 444,-242 223,-242\"/>\n",
       "<polygon fill=\"none\" stroke=\"black\" points=\"223,-242 223,-279 444,-279 444,-242 223,-242\"/>\n",
       "<text text-anchor=\"start\" x=\"234\" y=\"-257.8\" font-family=\"Helvetica,sans-Serif\" font-size=\"14.00\">Output shape: </text>\n",
       "<text text-anchor=\"start\" x=\"339\" y=\"-257.8\" font-family=\"Helvetica,sans-Serif\" font-weight=\"bold\" font-size=\"14.00\">(None, 128)</text>\n",
       "</g>\n",
       "<!-- 139619328731488&#45;&gt;139619328732112 -->\n",
       "<g id=\"edge2\" class=\"edge\">\n",
       "<title>139619328731488-&gt;139619328732112</title>\n",
       "<path fill=\"none\" stroke=\"black\" stroke-width=\"2\" d=\"M228,-360.37C228,-360.37 228,-333.56 228,-333.56\"/>\n",
       "<polygon fill=\"black\" stroke=\"black\" stroke-width=\"2\" points=\"231.5,-333.56 228,-323.56 224.5,-333.56 231.5,-333.56\"/>\n",
       "</g>\n",
       "<!-- 139619328730816 -->\n",
       "<g id=\"node4\" class=\"node\">\n",
       "<title>139619328730816</title>\n",
       "<polygon fill=\"none\" stroke=\"black\" points=\"10,-120.5 10,-203.5 446,-203.5 446,-120.5 10,-120.5\"/>\n",
       "<polygon fill=\"black\" stroke=\"transparent\" points=\"10,-120.5 10,-203.5 446,-203.5 446,-120.5 10,-120.5\"/>\n",
       "<polygon fill=\"black\" stroke=\"transparent\" points=\"12,-161 12,-201 444,-201 444,-161 12,-161\"/>\n",
       "<polygon fill=\"none\" stroke=\"black\" points=\"12,-161 12,-201 444,-201 444,-161 12,-161\"/>\n",
       "<text text-anchor=\"start\" x=\"125.5\" y=\"-178.2\" font-family=\"Helvetica,sans-Serif\" font-weight=\"bold\" font-size=\"16.00\" fill=\"white\">First_dropout</text>\n",
       "<text text-anchor=\"start\" x=\"248.5\" y=\"-178.2\" font-family=\"Helvetica,sans-Serif\" font-size=\"16.00\" fill=\"white\"> (Dropout)</text>\n",
       "<polygon fill=\"white\" stroke=\"transparent\" points=\"12,-122 12,-159 221,-159 221,-122 12,-122\"/>\n",
       "<polygon fill=\"none\" stroke=\"black\" points=\"12,-122 12,-159 221,-159 221,-122 12,-122\"/>\n",
       "<text text-anchor=\"start\" x=\"23\" y=\"-137.8\" font-family=\"Helvetica,sans-Serif\" font-size=\"14.00\">Input shape: </text>\n",
       "<text text-anchor=\"start\" x=\"116\" y=\"-137.8\" font-family=\"Helvetica,sans-Serif\" font-weight=\"bold\" font-size=\"14.00\">(None, 128)</text>\n",
       "<polygon fill=\"white\" stroke=\"transparent\" points=\"223,-122 223,-159 444,-159 444,-122 223,-122\"/>\n",
       "<polygon fill=\"none\" stroke=\"black\" points=\"223,-122 223,-159 444,-159 444,-122 223,-122\"/>\n",
       "<text text-anchor=\"start\" x=\"234\" y=\"-137.8\" font-family=\"Helvetica,sans-Serif\" font-size=\"14.00\">Output shape: </text>\n",
       "<text text-anchor=\"start\" x=\"339\" y=\"-137.8\" font-family=\"Helvetica,sans-Serif\" font-weight=\"bold\" font-size=\"14.00\">(None, 128)</text>\n",
       "</g>\n",
       "<!-- 139619328732112&#45;&gt;139619328730816 -->\n",
       "<g id=\"edge3\" class=\"edge\">\n",
       "<title>139619328732112-&gt;139619328730816</title>\n",
       "<path fill=\"none\" stroke=\"black\" stroke-width=\"2\" d=\"M228,-240.37C228,-240.37 228,-213.56 228,-213.56\"/>\n",
       "<polygon fill=\"black\" stroke=\"black\" stroke-width=\"2\" points=\"231.5,-213.56 228,-203.56 224.5,-213.56 231.5,-213.56\"/>\n",
       "</g>\n",
       "<!-- 139619328728704 -->\n",
       "<g id=\"node5\" class=\"node\">\n",
       "<title>139619328728704</title>\n",
       "<polygon fill=\"none\" stroke=\"black\" points=\"14.5,-0.5 14.5,-83.5 441.5,-83.5 441.5,-0.5 14.5,-0.5\"/>\n",
       "<polygon fill=\"black\" stroke=\"transparent\" points=\"14.5,-0.5 14.5,-83.5 441.5,-83.5 441.5,-0.5 14.5,-0.5\"/>\n",
       "<polygon fill=\"black\" stroke=\"transparent\" points=\"17,-41 17,-81 440,-81 440,-41 17,-41\"/>\n",
       "<polygon fill=\"none\" stroke=\"black\" points=\"17,-41 17,-81 440,-81 440,-41 17,-41\"/>\n",
       "<text text-anchor=\"start\" x=\"107.5\" y=\"-58.2\" font-family=\"Helvetica,sans-Serif\" font-weight=\"bold\" font-size=\"16.00\" fill=\"white\">Classification_layer</text>\n",
       "<text text-anchor=\"start\" x=\"281.5\" y=\"-58.2\" font-family=\"Helvetica,sans-Serif\" font-size=\"16.00\" fill=\"white\"> (Dense)</text>\n",
       "<polygon fill=\"white\" stroke=\"transparent\" points=\"17,-2 17,-39 226,-39 226,-2 17,-2\"/>\n",
       "<polygon fill=\"none\" stroke=\"black\" points=\"17,-2 17,-39 226,-39 226,-2 17,-2\"/>\n",
       "<text text-anchor=\"start\" x=\"28\" y=\"-17.8\" font-family=\"Helvetica,sans-Serif\" font-size=\"14.00\">Input shape: </text>\n",
       "<text text-anchor=\"start\" x=\"121\" y=\"-17.8\" font-family=\"Helvetica,sans-Serif\" font-weight=\"bold\" font-size=\"14.00\">(None, 128)</text>\n",
       "<polygon fill=\"white\" stroke=\"transparent\" points=\"228,-2 228,-39 440,-39 440,-2 228,-2\"/>\n",
       "<polygon fill=\"none\" stroke=\"black\" points=\"228,-2 228,-39 440,-39 440,-2 228,-2\"/>\n",
       "<text text-anchor=\"start\" x=\"239\" y=\"-17.8\" font-family=\"Helvetica,sans-Serif\" font-size=\"14.00\">Output shape: </text>\n",
       "<text text-anchor=\"start\" x=\"344\" y=\"-17.8\" font-family=\"Helvetica,sans-Serif\" font-weight=\"bold\" font-size=\"14.00\">(None, 10)</text>\n",
       "</g>\n",
       "<!-- 139619328730816&#45;&gt;139619328728704 -->\n",
       "<g id=\"edge4\" class=\"edge\">\n",
       "<title>139619328730816-&gt;139619328728704</title>\n",
       "<path fill=\"none\" stroke=\"black\" stroke-width=\"2\" d=\"M228,-120.37C228,-120.37 228,-93.56 228,-93.56\"/>\n",
       "<polygon fill=\"black\" stroke=\"black\" stroke-width=\"2\" points=\"231.5,-93.56 228,-83.56 224.5,-93.56 231.5,-93.56\"/>\n",
       "</g>\n",
       "</g>\n",
       "</svg>"
      ],
      "text/plain": [
       "<IPython.core.display.SVG object>"
      ]
     },
     "metadata": {},
     "output_type": "display_data"
    }
   ],
   "source": [
    "from tensorflow.keras.utils import model_to_dot\n",
    "from IPython.display import SVG, display\n",
    "\n",
    "# Create the DOT representation with smaller scaling\n",
    "dot = model_to_dot(Network, show_shapes=True, show_layer_names=True)\n",
    "dot.set('dpi', '50')  # Lower DPI for smaller image size\n",
    "\n",
    "# Convert to SVG and display\n",
    "svg = dot.create(prog='dot', format='svg')\n",
    "display(SVG(svg))\n"
   ]
  },
  {
   "cell_type": "code",
   "execution_count": 37,
   "metadata": {},
   "outputs": [],
   "source": [
    "from keras.losses import sparse_categorical_crossentropy\n",
    "from keras.optimizers import Adam\n",
    "\n",
    "Network.compile(\n",
    "    loss=sparse_categorical_crossentropy,\n",
    "    optimizer='adam',\n",
    "    metrics = ['accuracy']\n",
    ")"
   ]
  },
  {
   "cell_type": "code",
   "execution_count": 38,
   "metadata": {},
   "outputs": [
    {
     "name": "stdout",
     "output_type": "stream",
     "text": [
      "Epoch 1/5\n",
      "\u001b[1m469/469\u001b[0m \u001b[32m━━━━━━━━━━━━━━━━━━━━\u001b[0m\u001b[37m\u001b[0m \u001b[1m2s\u001b[0m 3ms/step - accuracy: 0.9774 - loss: 0.0757\n",
      "Epoch 2/5\n",
      "\u001b[1m469/469\u001b[0m \u001b[32m━━━━━━━━━━━━━━━━━━━━\u001b[0m\u001b[37m\u001b[0m \u001b[1m1s\u001b[0m 3ms/step - accuracy: 0.9817 - loss: 0.0608\n",
      "Epoch 3/5\n",
      "\u001b[1m469/469\u001b[0m \u001b[32m━━━━━━━━━━━━━━━━━━━━\u001b[0m\u001b[37m\u001b[0m \u001b[1m1s\u001b[0m 3ms/step - accuracy: 0.9838 - loss: 0.0522\n",
      "Epoch 4/5\n",
      "\u001b[1m469/469\u001b[0m \u001b[32m━━━━━━━━━━━━━━━━━━━━\u001b[0m\u001b[37m\u001b[0m \u001b[1m1s\u001b[0m 3ms/step - accuracy: 0.9852 - loss: 0.0478\n",
      "Epoch 5/5\n",
      "\u001b[1m469/469\u001b[0m \u001b[32m━━━━━━━━━━━━━━━━━━━━\u001b[0m\u001b[37m\u001b[0m \u001b[1m1s\u001b[0m 3ms/step - accuracy: 0.9882 - loss: 0.0407\n"
     ]
    },
    {
     "data": {
      "text/plain": [
       "<keras.src.callbacks.history.History at 0x7efbcc3cf5c0>"
      ]
     },
     "execution_count": 38,
     "metadata": {},
     "output_type": "execute_result"
    }
   ],
   "source": [
    "Network.fit(ds_train,epochs=5)"
   ]
  },
  {
   "cell_type": "code",
   "execution_count": 33,
   "metadata": {},
   "outputs": [
    {
     "name": "stdout",
     "output_type": "stream",
     "text": [
      "\u001b[1m79/79\u001b[0m \u001b[32m━━━━━━━━━━━━━━━━━━━━\u001b[0m\u001b[37m\u001b[0m \u001b[1m0s\u001b[0m 1ms/step - accuracy: 0.9747 - loss: 0.0788\n",
      "Loss = 0.08097625523805618\n",
      "Accuracy : 0.9757999777793884\n"
     ]
    }
   ],
   "source": [
    "loss,acc = Network.evaluate(ds_test)\n",
    "print(f'Loss = {loss}')\n",
    "print(f'Accuracy : {acc}')"
   ]
  },
  {
   "cell_type": "code",
   "execution_count": null,
   "metadata": {},
   "outputs": [],
   "source": []
  }
 ],
 "metadata": {
  "kernelspec": {
   "display_name": "neurostack",
   "language": "python",
   "name": "python3"
  },
  "language_info": {
   "codemirror_mode": {
    "name": "ipython",
    "version": 3
   },
   "file_extension": ".py",
   "mimetype": "text/x-python",
   "name": "python",
   "nbconvert_exporter": "python",
   "pygments_lexer": "ipython3",
   "version": "3.12.8"
  }
 },
 "nbformat": 4,
 "nbformat_minor": 2
}
